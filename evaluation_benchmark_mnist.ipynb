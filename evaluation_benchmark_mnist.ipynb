{
 "cells": [
  {
   "cell_type": "code",
   "execution_count": 1,
   "metadata": {},
   "outputs": [],
   "source": [
    "%load_ext autoreload\n",
    "%autoreload 2"
   ]
  },
  {
   "cell_type": "code",
   "execution_count": 2,
   "metadata": {},
   "outputs": [],
   "source": [
    "from scripts.benchmark_functions import *"
   ]
  },
  {
   "cell_type": "markdown",
   "metadata": {},
   "source": [
    "Creating batches of data for benchmarking"
   ]
  },
  {
   "cell_type": "code",
   "execution_count": 3,
   "metadata": {},
   "outputs": [],
   "source": [
    "dataset_path = 'datasets/mnist/'\n",
    "batch_size = 256\n",
    "num_batches = 10\n",
    "batch_compositions = [{'mnist_test':200, 'fashion':56} for i in range(num_batches)]\n",
    "# test_seq, labels, fnames = create_benchmark_seq_batches(dataset_path, batch_size, num_batches, batch_compositions, position_only=True, seed=11)\n",
    "test_seq, labels, fnames = create_benchmark_seq_batches(dataset_path, batch_size, num_batches, batch_compositions, seed=95)\n",
    "fnprefix = \"seed_95\""
   ]
  },
  {
   "cell_type": "markdown",
   "metadata": {},
   "source": [
    "Create SCOD model"
   ]
  },
  {
   "cell_type": "code",
   "execution_count": 5,
   "metadata": {},
   "outputs": [
    {
     "name": "stdout",
     "output_type": "stream",
     "text": [
      "Weight space dimension: 4.443e+04\n",
      "computing basis\n",
      "using T = 304\n"
     ]
    },
    {
     "data": {
      "application/vnd.jupyter.widget-view+json": {
       "model_id": "272772821e094bf1a47d0ee1b176c011",
       "version_major": 2,
       "version_minor": 0
      },
      "text/plain": [
       "  0%|          | 0/188 [00:00<?, ?it/s]"
      ]
     },
     "metadata": {},
     "output_type": "display_data"
    }
   ],
   "source": [
    "load_model_path = './best_model/mnist_model.pt'\n",
    "unc_model = create_scod_model(load_model_path, dataset_path, batch_size)"
   ]
  },
  {
   "cell_type": "markdown",
   "metadata": {},
   "source": [
    "Test different flagging algorithms"
   ]
  },
  {
   "cell_type": "code",
   "execution_count": 12,
   "metadata": {},
   "outputs": [],
   "source": [
    "flaggers_to_test = []\n",
    "# Naive false\n",
    "flaggers_to_test += [(lambda x: [False for i in range(len(x))], 'naive_false')]\n",
    "\n",
    "# Naive true\n",
    "flaggers_to_test += [(lambda x: [True for i in range(len(x))], 'naive_true')]\n",
    "\n",
    "# # SCOD k-highest threshold\n",
    "# flaggers_to_test += [(lambda x, fl=fl: scod_flagger(x, unc_model, flag_limit=fl), 'scod_'+str(fl)) for fl in range(1,16)]\n",
    "\n",
    "# # Diverse subsampling via coreset\n",
    "# flaggers_to_test += [(lambda x, fl=fl: ds_scod_flagger(x, unc_model, fl), 'diverse_'+str(fl)) for fl in range(1,16)]\n",
    "\n",
    "# # Random\n",
    "# flaggers_to_test += [(lambda x, fl=fl, seed=sd: random_flagger(x, fl, seed=sd), 'rand_'+str(fl)+'_'+str(sd)) for fl in [2,10,15] for sd in [11,95,42,99,13]]\n"
   ]
  },
  {
   "cell_type": "code",
   "execution_count": 28,
   "metadata": {},
   "outputs": [
    {
     "data": {
      "text/plain": [
       "[(<function __main__.<lambda>(x)>, 'naive_false'),\n",
       " (<function __main__.<lambda>(x)>, 'naive_true')]"
      ]
     },
     "execution_count": 28,
     "metadata": {},
     "output_type": "execute_result"
    }
   ],
   "source": [
    "flaggers_to_test"
   ]
  },
  {
   "cell_type": "code",
   "execution_count": 29,
   "metadata": {},
   "outputs": [
    {
     "name": "stdout",
     "output_type": "stream",
     "text": [
      "Evaluating algorithm  naive_false\n",
      "Saving cost/acc data for  naive_false  to file  seed_95_naive_false_cost_acc.npz\n",
      "Saving mean cost/ mean acc/ stddev cost of algorithms so far to file  seed_95_cost_acc_20221004-035640.npz\n",
      "Evaluating algorithm  naive_true\n",
      "Saving cost/acc data for  naive_true  to file  seed_95_naive_true_cost_acc.npz\n",
      "Saving mean cost/ mean acc/ stddev cost of algorithms so far to file  seed_95_cost_acc_20221004-044827.npz\n"
     ]
    }
   ],
   "source": [
    "costs, accs, accs_std = eval_flaggers(flaggers_to_test, load_model_path, test_seq, labels, indiv=False, fnprefix = fnprefix)"
   ]
  },
  {
   "cell_type": "code",
   "execution_count": 30,
   "metadata": {},
   "outputs": [
    {
     "name": "stdout",
     "output_type": "stream",
     "text": [
      "{'naive_false': 0.0, 'naive_true': 1280.5}\n",
      "{'naive_false': -3.275390625, 'naive_true': -3.275390625}\n",
      "{'naive_false': 10.540784808479021, 'naive_true': 10.540784808479021}\n"
     ]
    }
   ],
   "source": [
    "# costs_from_file, accs_from_file = load_costs_accs_from_file('cost_acc_20220708-065847.npz')\n",
    "# costs_from_file, accs_from_file, stddevs_from_file = load_costs_accs_from_file('cost_acc_20220708-074420.npz')\n",
    "# costs_from_file, accs_from_file, stddevs_from_file = load_costs_accs_from_file('cost_acc_20220708-173917.npz')\n",
    "# costs_mean_from_file, accs_mean_from_file, accs_stddevs_from_file = load_costs_accs_from_file('cost_acc_20220708-221330.npz')\n",
    "# costs_mean_from_file, accs_mean_from_file, accs_stddevs_from_file = load_costs_accs_from_file('cost_acc_20220709-000002.npz')\n",
    "costs_mean_from_file, accs_mean_from_file, accs_stddevs_from_file = load_costs_accs_from_file('seed_95_cost_acc_20221004-044827.npz')\n",
    "\n",
    "print(costs_mean_from_file)\n",
    "print(accs_mean_from_file)\n",
    "print(accs_stddevs_from_file)"
   ]
  },
  {
   "cell_type": "code",
   "execution_count": 23,
   "metadata": {},
   "outputs": [],
   "source": [
    "# cost_vec, acc_vec = load_costs_accs_alg_specific_from_file('_naive_false_cost_acc.npz')\n",
    "# print(cost_vec)\n",
    "# print(acc_vec)"
   ]
  },
  {
   "cell_type": "code",
   "execution_count": null,
   "metadata": {},
   "outputs": [],
   "source": []
  }
 ],
 "metadata": {
  "interpreter": {
   "hash": "6521b65884b988f61af67a78bf2c1ddbf3c0a7e5b6c99465394a7999b79f448c"
  },
  "kernelspec": {
   "display_name": "Python 3.7.4 ('base')",
   "language": "python",
   "name": "python3"
  },
  "language_info": {
   "codemirror_mode": {
    "name": "ipython",
    "version": 3
   },
   "file_extension": ".py",
   "mimetype": "text/x-python",
   "name": "python",
   "nbconvert_exporter": "python",
   "pygments_lexer": "ipython3",
   "version": "3.7.4"
  },
  "orig_nbformat": 4
 },
 "nbformat": 4,
 "nbformat_minor": 2
}
