{
 "cells": [
  {
   "cell_type": "markdown",
   "metadata": {},
   "source": [
    "Author Note: this is an exploratory notebook workshoping the author's pipeline -- for the paper's main pipeline please use \"train.ipynb\" and then \"evaluation_benchmark.ipynb\" followed by \"visualize_benchmark_results.ipynb\"\n",
    "\n",
    "Please see cell [3] of \"evaluation_benchmark.ipynb\" for the definition of a SCOD model.\n",
    "\n",
    "See \"init_scod\" at line 320 of utils.py for the hyperparameters used to define our OOD wrapper."
   ]
  },
  {
   "cell_type": "code",
   "execution_count": null,
   "metadata": {},
   "outputs": [],
   "source": [
    "%load_ext autoreload\n",
    "%autoreload 2\n",
    "\n",
    "import scod\n",
    "import numpy as np\n",
    "from matplotlib import pyplot as plt\n",
    "from scripts.train_functions import create_dataloaders, load_model_from_ckp\n",
    "from scripts.utils import sample_pred_scod"
   ]
  },
  {
   "cell_type": "markdown",
   "metadata": {},
   "source": [
    "Clear GPU usage"
   ]
  },
  {
   "cell_type": "code",
   "execution_count": 2,
   "metadata": {},
   "outputs": [],
   "source": [
    "import torch\n",
    "torch.cuda.empty_cache()"
   ]
  },
  {
   "cell_type": "markdown",
   "metadata": {},
   "source": [
    "## Exoromper"
   ]
  },
  {
   "cell_type": "code",
   "execution_count": 3,
   "metadata": {},
   "outputs": [],
   "source": [
    "dataset_path = 'datasets/exoromper/'\n",
    "batch = 20\n",
    "dataloaders, dataset_sizes = create_dataloaders(dataset_path, batch, dataset_name=\"exoromper\")\n"
   ]
  },
  {
   "cell_type": "markdown",
   "metadata": {},
   "source": [
    "Load a trained model"
   ]
  },
  {
   "cell_type": "code",
   "execution_count": 4,
   "metadata": {},
   "outputs": [],
   "source": [
    "load_model_path = './best_model/ex_v5_best_model.pt'\n",
    "model, optimizer, start_epoch_idx, valid_loss, criterion, device = load_model_from_ckp(load_model_path)"
   ]
  },
  {
   "cell_type": "code",
   "execution_count": 5,
   "metadata": {},
   "outputs": [],
   "source": [
    "# here, we interpret the output of the DNN as the mean of a Gaussian\n",
    "dist_constructor = lambda theta: scod.distributions.Normal(loc=theta, scale=1.)"
   ]
  },
  {
   "cell_type": "markdown",
   "metadata": {},
   "source": [
    "### Applying SCOD\n",
    "Now, we apply SCOD to the network to add uncertainty estimation"
   ]
  },
  {
   "cell_type": "code",
   "execution_count": 6,
   "metadata": {},
   "outputs": [
    {
     "name": "stdout",
     "output_type": "stream",
     "text": [
      "<class 'scod.sketching.sketched_pca.SRFT_SinglePassPCA'>\n"
     ]
    }
   ],
   "source": [
    "unc_model = scod.SCOD(model, dist_constructor, args={\n",
    "    'num_eigs': 2,\n",
    "    'sketch_type': 'srft',\n",
    "}, parameters=list(model.parameters())[-4:])"
   ]
  },
  {
   "cell_type": "code",
   "execution_count": 7,
   "metadata": {},
   "outputs": [
    {
     "name": "stdout",
     "output_type": "stream",
     "text": [
      "computing basis\n",
      "using T = 16\n"
     ]
    },
    {
     "name": "stderr",
     "output_type": "stream",
     "text": [
      " 38%|███▊      | 6/16 [00:04<00:07,  1.39it/s]\n"
     ]
    }
   ],
   "source": [
    "unc_model.process_dataloader(dataloaders['space'])"
   ]
  },
  {
   "cell_type": "markdown",
   "metadata": {},
   "source": [
    "Loop over all the different dataloaders, get batch of images, store true labels, run through unc, store the yhats and sigs\n"
   ]
  },
  {
   "cell_type": "code",
   "execution_count": 8,
   "metadata": {},
   "outputs": [],
   "source": [
    "# dnames = ['train','val','test']\n",
    "dnames = ['space','earth','lens_flare']"
   ]
  },
  {
   "cell_type": "code",
   "execution_count": 10,
   "metadata": {},
   "outputs": [
    {
     "name": "stdout",
     "output_type": "stream",
     "text": [
      "Sampling from dataset:  space\n",
      "Sampling from dataset:  earth\n",
      "Sampling from dataset:  lens_flare\n",
      "Saved to file:  saved_data/20220820-142751\n"
     ]
    }
   ],
   "source": [
    "sample_pred_scod(dnames, dataloaders, model, unc_model)"
   ]
  },
  {
   "cell_type": "code",
   "execution_count": 11,
   "metadata": {},
   "outputs": [],
   "source": [
    "# Load from file\n",
    "# filename= 'saved_data/' + '20220429-010710.npz' # Includes model predictions for v1 (train, test, val)\n",
    "# filename= 'saved_data/' + '20220429-030639.npz' # Includes model predictions for v2 (space, earth, lens_flare)\n",
    "filename= 'saved_data/' + '20220820-142751.npz' # Includes model predictions for v5 (space, earth, lens_flare)\n",
    "\n",
    "\n",
    "loaded = np.load(filename,allow_pickle=True)\n",
    "true_labels = loaded['true_labels'].item()\n",
    "pred_labels = loaded['pred_labels'].item()\n",
    "pred_mean = loaded['pred_mean'].item()\n",
    "pred_stddev = loaded['pred_stddev'].item()\n",
    "uncertainties = loaded['uncertainties'].item()"
   ]
  },
  {
   "cell_type": "markdown",
   "metadata": {},
   "source": [
    "Plot the MSE (true vs. pred labels) for all dataloaders\n"
   ]
  },
  {
   "cell_type": "code",
   "execution_count": 12,
   "metadata": {},
   "outputs": [],
   "source": [
    "def reject_outliers(data, m = 2.):\n",
    "    d = np.abs(data - np.median(data))\n",
    "    mdev = np.median(d)\n",
    "    s = d/mdev if mdev else 0.\n",
    "    return data[s<m]"
   ]
  },
  {
   "cell_type": "code",
   "execution_count": 13,
   "metadata": {},
   "outputs": [
    {
     "data": {
      "text/plain": [
       "[Text(0, 0.5, 'Mean squared error'), Text(0.5, 0, 'Dataset noise')]"
      ]
     },
     "execution_count": 13,
     "metadata": {},
     "output_type": "execute_result"
    },
    {
     "data": {
      "image/png": "[encoded data removed]",
      "text/plain": [
       "<Figure size 432x288 with 1 Axes>"
      ]
     },
     "metadata": {
      "needs_background": "light"
     },
     "output_type": "display_data"
    }
   ],
   "source": [
    "dnlabels = dnames\n",
    "\n",
    "mse = np.zeros(np.shape(dnames))\n",
    "mkrcolors = []\n",
    "for i, dn in enumerate(dnames):\n",
    "    mse[i] = np.mean(reject_outliers( np.sum( (true_labels[dn] - pred_labels[dn])**2, axis=-1)) )\n",
    "    if dn == 'train' or dn == 'val':\n",
    "        mkrcolors.append('C2')\n",
    "    else:\n",
    "        mkrcolors.append('C0')\n",
    "        \n",
    "fig, ax = plt.subplots()\n",
    "ax.scatter(np.arange(len(dnames)), mse, color=mkrcolors)\n",
    "# ax.scatter(np.arange(len(dnames)), mse_old, color='r')\n",
    "\n",
    "ax.xaxis.set_ticks(np.arange(len(dnames)))\n",
    "ax.xaxis.set_ticklabels(dnlabels, rotation=90)\n",
    "ax.set(ylabel='Mean squared error', xlabel='Dataset noise')\n",
    "\n",
    "# plt.savefig('plots_images/MSE_trend.png', dpi=200)"
   ]
  },
  {
   "cell_type": "markdown",
   "metadata": {},
   "source": [
    "Plot the sigs for all dataloaders"
   ]
  },
  {
   "cell_type": "code",
   "execution_count": 14,
   "metadata": {},
   "outputs": [
    {
     "data": {
      "text/plain": [
       "[Text(0, 0.5, 'Model uncertainty'), Text(0.5, 0, 'Dataset noise')]"
      ]
     },
     "execution_count": 14,
     "metadata": {},
     "output_type": "execute_result"
    },
    {
     "data": {
      "image/png": "[encoded data removed]",
      "text/plain": [
       "<Figure size 432x288 with 1 Axes>"
      ]
     },
     "metadata": {
      "needs_background": "light"
     },
     "output_type": "display_data"
    }
   ],
   "source": [
    "dnlabels = dnames\n",
    "\n",
    "uncertainty = np.zeros(np.shape(dnames))\n",
    "mkrcolors = []\n",
    "for i, dn in enumerate(dnames):\n",
    "    uncertainty[i] = np.mean(uncertainties[dn])\n",
    "    if dn == 'train' or dn == 'val':\n",
    "        mkrcolors.append('C2')\n",
    "    else:\n",
    "        mkrcolors.append('C0')\n",
    "\n",
    "fig, ax = plt.subplots()\n",
    "ax.scatter(np.arange(len(dnames)), uncertainty, color=mkrcolors)\n",
    "ax.xaxis.set_ticks(np.arange(len(dnames)))\n",
    "ax.xaxis.set_ticklabels(dnlabels, rotation=90)\n",
    "ax.set(ylabel='Model uncertainty', xlabel='Dataset noise')\n",
    "\n",
    "# plt.savefig('plots_images/Model_uncertainty_trend_3.png', dpi=200)"
   ]
  },
  {
   "cell_type": "markdown",
   "metadata": {},
   "source": [
    "Model select threshold for OOD"
   ]
  },
  {
   "cell_type": "code",
   "execution_count": 15,
   "metadata": {},
   "outputs": [
    {
     "data": {
      "image/png": "[encoded data removed]",
      "text/plain": [
       "<Figure size 432x288 with 1 Axes>"
      ]
     },
     "metadata": {
      "needs_background": "light"
     },
     "output_type": "display_data"
    }
   ],
   "source": [
    "dnlabels = dnames\n",
    "\n",
    "mse = np.zeros(np.shape(dnames))\n",
    "uncertainty = np.zeros(np.shape(dnames))\n",
    "\n",
    "mkrcolors = []\n",
    "for i, dn in enumerate(dnames):\n",
    "    mse[i] = np.mean( reject_outliers(np.sum( (true_labels[dn] - pred_labels[dn])**2, axis=-1) ))\n",
    "    uncertainty[i] = np.mean(uncertainties[dn])\n",
    "    if dn == 'train' or dn == 'val':\n",
    "        mkrcolors.append('C2')\n",
    "    else:\n",
    "        mkrcolors.append('C0')\n",
    "        \n",
    "fig, ax = plt.subplots()\n",
    "ax.scatter(mse, uncertainty, color=mkrcolors)\n",
    "# # Best fit line\n",
    "# m, b = np.polyfit(mse, uncertainty, 1)\n",
    "# xvals = np.linspace(0, 25, 5)\n",
    "# ax.plot(xvals, m*xvals + b-0.0015, ls=(0, (5,5)), color='k')\n",
    "\n",
    "# ax.set(ylabel='Model uncertainty', xlabel='Pose estimation error')\n",
    "ax.grid()\n",
    "\n",
    "# ax.axvline(x=10, color='teal', ls = '--')\n",
    "# ax.axhline(y=0.935, color='red', ls = '--')\n",
    "\n",
    "# plt.savefig('plots_images/threshold.png', dpi=200)\n",
    "# plt.savefig('plots_images/threshold_with_bestfit.png', dpi=200)"
   ]
  },
  {
   "cell_type": "markdown",
   "metadata": {},
   "source": [
    "## Speed dataset"
   ]
  },
  {
   "cell_type": "code",
   "execution_count": 3,
   "metadata": {},
   "outputs": [],
   "source": [
    "dataset_path = 'datasets/speed/'\n",
    "batch = 20\n",
    "dataloaders, dataset_sizes = create_dataloaders(dataset_path, batch)\n"
   ]
  },
  {
   "cell_type": "markdown",
   "metadata": {},
   "source": [
    "Load a trained model"
   ]
  },
  {
   "cell_type": "code",
   "execution_count": 4,
   "metadata": {},
   "outputs": [
    {
     "name": "stdout",
     "output_type": "stream",
     "text": [
      "CUDA IS AVAILABLE?  True\n"
     ]
    }
   ],
   "source": [
    "load_model_path = './best_model/images_1000_utils_best_model.pt'\n",
    "model, optimizer, start_epoch_idx, valid_loss, criterion, device = load_model_from_ckp(load_model_path)"
   ]
  },
  {
   "cell_type": "code",
   "execution_count": 5,
   "metadata": {},
   "outputs": [],
   "source": [
    "# here, we interpret the output of the DNN as the mean of a Gaussian\n",
    "dist_constructor = lambda theta: scod.distributions.Normal(loc=theta, scale=1.)"
   ]
  },
  {
   "cell_type": "markdown",
   "metadata": {},
   "source": [
    "### Applying SCOD\n",
    "Now, we apply SCOD to the network to add uncertainty estimation"
   ]
  },
  {
   "cell_type": "code",
   "execution_count": 6,
   "metadata": {},
   "outputs": [
    {
     "name": "stdout",
     "output_type": "stream",
     "text": [
      "<class 'scod.sketching.sketched_pca.SRFT_SinglePassPCA'>\n"
     ]
    }
   ],
   "source": [
    "unc_model = scod.SCOD(model, dist_constructor, args={\n",
    "    'num_eigs': 2,\n",
    "    'sketch_type': 'srft',\n",
    "}, parameters=list(model.parameters())[-4:])"
   ]
  },
  {
   "cell_type": "code",
   "execution_count": 7,
   "metadata": {},
   "outputs": [
    {
     "name": "stdout",
     "output_type": "stream",
     "text": [
      "computing basis\n",
      "using T = 16\n"
     ]
    },
    {
     "name": "stderr",
     "output_type": "stream",
     "text": [
      "36it [00:04,  7.21it/s]                        \n"
     ]
    }
   ],
   "source": [
    "unc_model.process_dataloader(dataloaders['train'])"
   ]
  },
  {
   "cell_type": "code",
   "execution_count": 8,
   "metadata": {},
   "outputs": [
    {
     "name": "stderr",
     "output_type": "stream",
     "text": [
      "100%|██████████| 9/9 [00:02<00:00,  3.79it/s]\n"
     ]
    }
   ],
   "source": [
    "unc_model.calibrate_dataloader(dataloaders['val'], 0.95)"
   ]
  },
  {
   "cell_type": "markdown",
   "metadata": {},
   "source": [
    "Loop over all the different dataloaders, get batch of images, store true labels, run through unc, store the yhats and sigs\n"
   ]
  },
  {
   "cell_type": "code",
   "execution_count": 10,
   "metadata": {},
   "outputs": [],
   "source": [
    "dnames = ['train','val','test', 'test_0001', 'test_0005', 'test_001', 'test_01', 'test_10', 'test_50', 'test_90']"
   ]
  },
  {
   "cell_type": "code",
   "execution_count": 11,
   "metadata": {},
   "outputs": [
    {
     "name": "stdout",
     "output_type": "stream",
     "text": [
      "Sampling from dataset:  train\n",
      "Sampling from dataset:  val\n",
      "Sampling from dataset:  test\n",
      "Sampling from dataset:  test_0001\n",
      "Sampling from dataset:  test_0005\n",
      "Sampling from dataset:  test_001\n",
      "Sampling from dataset:  test_01\n",
      "Sampling from dataset:  test_10\n",
      "Sampling from dataset:  test_50\n",
      "Sampling from dataset:  test_90\n",
      "Saved to file:  saved_data/20220429-032404\n"
     ]
    }
   ],
   "source": [
    "# sample_pred_scod(dnames, dataloaders, model, unc_model)"
   ]
  },
  {
   "cell_type": "code",
   "execution_count": 11,
   "metadata": {},
   "outputs": [],
   "source": [
    "# Load from file\n",
    "# filename= 'saved_data/' + '20220218-024328.npz' # Not calibrated with val\n",
    "# filename= 'saved_data/' + '20220218-033505.npz' # Calibrated with val\n",
    "filename= 'saved_data/' + '20220218-040324.npz' # Includes model predictions\n",
    "\n",
    "loaded = np.load(filename,allow_pickle=True)\n",
    "true_labels = loaded['true_labels'].item()\n",
    "pred_labels = loaded['pred_labels'].item()\n",
    "pred_mean = loaded['pred_mean'].item()\n",
    "pred_stddev = loaded['pred_stddev'].item()\n",
    "uncertainties = loaded['uncertainties'].item()"
   ]
  },
  {
   "cell_type": "markdown",
   "metadata": {},
   "source": [
    "Plot the MSE (true vs. pred labels) for all dataloaders\n"
   ]
  },
  {
   "cell_type": "code",
   "execution_count": 12,
   "metadata": {},
   "outputs": [
    {
     "data": {
      "text/plain": [
       "[Text(0, 0.5, 'Mean squared error'), Text(0.5, 0, 'Dataset noise')]"
      ]
     },
     "execution_count": 12,
     "metadata": {},
     "output_type": "execute_result"
    },
    {
     "data": {
      "image/png": "[encoded data removed]",
      "text/plain": [
       "<Figure size 432x288 with 1 Axes>"
      ]
     },
     "metadata": {
      "needs_background": "light"
     },
     "output_type": "display_data"
    }
   ],
   "source": [
    "dnames = ['train','val','test', 'test_0001', 'test_0005', 'test_001', 'test_01', 'test_10', 'test_50', 'test_90']\n",
    "dnlabels = ['train', 'val', 'test', '1%','5%', '10%', '20%', '30%', '50%', '90%']\n",
    "\n",
    "mse_old = np.zeros(np.shape(dnames))\n",
    "mse = np.zeros(np.shape(dnames))\n",
    "mkrcolors = []\n",
    "for i, dn in enumerate(dnames):\n",
    "    mse_old[i] = np.mean( np.sum( (true_labels[dn] - pred_mean[dn])**2, axis=-1) )\n",
    "    mse[i] = np.mean( np.sum( (true_labels[dn] - pred_labels[dn])**2, axis=-1) )\n",
    "    if dn == 'train' or dn == 'val':\n",
    "        mkrcolors.append('C2')\n",
    "    else:\n",
    "        mkrcolors.append('C0')\n",
    "        \n",
    "fig, ax = plt.subplots()\n",
    "ax.scatter(np.arange(len(dnames)), mse, color=mkrcolors)\n",
    "# ax.scatter(np.arange(len(dnames)), mse_old, color='r')\n",
    "\n",
    "ax.xaxis.set_ticks(np.arange(len(dnames)))\n",
    "ax.xaxis.set_ticklabels(dnlabels, rotation=90)\n",
    "ax.set(ylabel='Mean squared error', xlabel='Dataset noise')\n",
    "\n",
    "# plt.savefig('plots_images/MSE_trend.png', dpi=200)"
   ]
  },
  {
   "cell_type": "markdown",
   "metadata": {},
   "source": [
    "Plot the sigs for all dataloaders"
   ]
  },
  {
   "cell_type": "code",
   "execution_count": 13,
   "metadata": {},
   "outputs": [
    {
     "data": {
      "text/plain": [
       "[Text(0, 0.5, 'Model uncertainty'), Text(0.5, 0, 'Dataset noise')]"
      ]
     },
     "execution_count": 13,
     "metadata": {},
     "output_type": "execute_result"
    },
    {
     "data": {
      "image/png": "[encoded data removed]",
      "text/plain": [
       "<Figure size 432x288 with 1 Axes>"
      ]
     },
     "metadata": {
      "needs_background": "light"
     },
     "output_type": "display_data"
    }
   ],
   "source": [
    "dnames = ['train','val','test', 'test_0001', 'test_0005', 'test_001', 'test_01', 'test_10', 'test_50', 'test_90']\n",
    "dnlabels = ['train', 'val', 'test', '1%','5%', '10%', '20%', '30%', '50%', '90%']\n",
    "\n",
    "uncertainty = np.zeros(np.shape(dnames))\n",
    "mkrcolors = []\n",
    "for i, dn in enumerate(dnames):\n",
    "    uncertainty[i] = np.mean(uncertainties[dn])\n",
    "    if dn == 'train' or dn == 'val':\n",
    "        mkrcolors.append('C2')\n",
    "    else:\n",
    "        mkrcolors.append('C0')\n",
    "\n",
    "fig, ax = plt.subplots()\n",
    "ax.scatter(np.arange(len(dnames)), uncertainty, color=mkrcolors)\n",
    "ax.xaxis.set_ticks(np.arange(len(dnames)))\n",
    "ax.xaxis.set_ticklabels(dnlabels, rotation=90)\n",
    "ax.set(ylabel='Model uncertainty', xlabel='Dataset noise')\n",
    "\n",
    "# plt.savefig('plots_images/Model_uncertainty_trend_3.png', dpi=200)"
   ]
  },
  {
   "cell_type": "markdown",
   "metadata": {},
   "source": [
    "Model select threshold for OOD"
   ]
  },
  {
   "cell_type": "code",
   "execution_count": 14,
   "metadata": {},
   "outputs": [
    {
     "data": {
      "text/plain": [
       "<matplotlib.lines.Line2D at 0x7fe807fdc510>"
      ]
     },
     "execution_count": 14,
     "metadata": {},
     "output_type": "execute_result"
    },
    {
     "data": {
      "image/png": "[encoded data removed]",
      "text/plain": [
       "<Figure size 432x288 with 1 Axes>"
      ]
     },
     "metadata": {
      "needs_background": "light"
     },
     "output_type": "display_data"
    }
   ],
   "source": [
    "dnames = ['train','val','test', 'test_0001', 'test_0005', 'test_001', 'test_01', 'test_10', 'test_50', 'test_90']\n",
    "dnlabels = ['train', 'val', 'test', '1%','5%', '10%', '20%', '30%', '50%', '90%']\n",
    "\n",
    "mse = np.zeros(np.shape(dnames))\n",
    "uncertainty = np.zeros(np.shape(dnames))\n",
    "\n",
    "mkrcolors = []\n",
    "for i, dn in enumerate(dnames):\n",
    "    mse[i] = np.mean( np.sum( (true_labels[dn] - pred_labels[dn])**2, axis=-1) )\n",
    "    uncertainty[i] = np.mean(uncertainties[dn])\n",
    "    if dn == 'train' or dn == 'val':\n",
    "        mkrcolors.append('C2')\n",
    "    else:\n",
    "        mkrcolors.append('C0')\n",
    "        \n",
    "fig, ax = plt.subplots()\n",
    "ax.scatter(mse, uncertainty, color=mkrcolors)\n",
    "# # Best fit line\n",
    "# m, b = np.polyfit(mse, uncertainty, 1)\n",
    "# xvals = np.linspace(0, 25, 5)\n",
    "# ax.plot(xvals, m*xvals + b-0.0015, ls=(0, (5,5)), color='k')\n",
    "\n",
    "# ax.set(ylabel='Model uncertainty', xlabel='Pose estimation error')\n",
    "ax.grid()\n",
    "\n",
    "ax.axvline(x=10, color='teal', ls = '--')\n",
    "ax.axhline(y=0.935, color='red', ls = '--')\n",
    "\n",
    "# plt.savefig('plots_images/threshold.png', dpi=200)\n",
    "# plt.savefig('plots_images/threshold_with_bestfit.png', dpi=200)"
   ]
  },
  {
   "cell_type": "code",
   "execution_count": null,
   "metadata": {},
   "outputs": [],
   "source": []
  }
 ],
 "metadata": {
  "interpreter": {
   "hash": "6521b65884b988f61af67a78bf2c1ddbf3c0a7e5b6c99465394a7999b79f448c"
  },
  "kernelspec": {
   "display_name": "Python 3.7.4 ('base')",
   "language": "python",
   "name": "python3"
  },
  "language_info": {
   "codemirror_mode": {
    "name": "ipython",
    "version": 3
   },
   "file_extension": ".py",
   "mimetype": "text/x-python",
   "name": "python",
   "nbconvert_exporter": "python",
   "pygments_lexer": "ipython3",
   "version": "3.7.4"
  },
  "orig_nbformat": 4
 },
 "nbformat": 4,
 "nbformat_minor": 2
}
