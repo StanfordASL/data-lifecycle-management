{
 "cells": [
  {
   "cell_type": "code",
   "execution_count": null,
   "metadata": {},
   "outputs": [],
   "source": [
    "%load_ext autoreload\n",
    "%autoreload 2"
   ]
  },
  {
   "cell_type": "code",
   "execution_count": 1,
   "metadata": {},
   "outputs": [],
   "source": [
    "from scripts.benchmark_functions import *"
   ]
  },
  {
   "cell_type": "markdown",
   "metadata": {},
   "source": [
    "Creating batches of data for benchmarking"
   ]
  },
  {
   "cell_type": "code",
   "execution_count": 2,
   "metadata": {},
   "outputs": [],
   "source": [
    "dataset_path = 'datasets/exoromper/'\n",
    "batch_size = 20\n",
    "num_batches = 10\n",
    "batch_compositions = [{'space':10, 'earth':5, 'lens_flare':5} for i in range(num_batches)]\n",
    "# test_seq, labels, fnames = create_benchmark_seq_batches(dataset_path, batch_size, num_batches, batch_compositions, position_only=True, seed=11)\n",
    "test_seq, labels, fnames = create_benchmark_seq_batches(dataset_path, batch_size, num_batches, batch_compositions, position_only=True, seed=95)\n",
    "fnprefix = \"seed_95\""
   ]
  },
  {
   "cell_type": "markdown",
   "metadata": {},
   "source": [
    "Create SCOD model"
   ]
  },
  {
   "cell_type": "code",
   "execution_count": 3,
   "metadata": {},
   "outputs": [
    {
     "name": "stdout",
     "output_type": "stream",
     "text": [
      "<class 'scod.sketching.sketched_pca.SRFT_SinglePassPCA'>\n",
      "computing basis\n",
      "using T = 16\n"
     ]
    },
    {
     "name": "stderr",
     "output_type": "stream",
     "text": [
      " 38%|███▊      | 6/16 [00:04<00:06,  1.44it/s]\n"
     ]
    }
   ],
   "source": [
    "load_model_path = './best_model/ex_v5_best_model.pt'\n",
    "dataset_path = 'datasets/exoromper/'\n",
    "unc_model = create_scod_model(load_model_path, dataset_path, batch_size)"
   ]
  },
  {
   "cell_type": "markdown",
   "metadata": {},
   "source": [
    "Test different flagging algorithms"
   ]
  },
  {
   "cell_type": "code",
   "execution_count": 5,
   "metadata": {},
   "outputs": [],
   "source": [
    "flaggers_to_test = []\n",
    "# Naive false\n",
    "flaggers_to_test += [(lambda x: [False for i in range(len(x))], 'naive_false')]\n",
    "\n",
    "# Naive true\n",
    "flaggers_to_test += [(lambda x: [True for i in range(len(x))], 'naive_true')]\n",
    "\n",
    "# SCOD k-highest threshold\n",
    "flaggers_to_test += [(lambda x, fl=fl: scod_flagger(x, unc_model, flag_limit=fl), 'scod_'+str(fl)) for fl in range(1,16)]\n",
    "\n",
    "# Diverse subsampling via coreset\n",
    "flaggers_to_test += [(lambda x, fl=fl: ds_scod_flagger(x, unc_model, fl), 'diverse_'+str(fl)) for fl in range(1,16)]\n",
    "\n",
    "# Random\n",
    "flaggers_to_test += [(lambda x, fl=fl, seed=sd: random_flagger(x, fl, seed=sd), 'rand_'+str(fl)+'_'+str(sd)) for fl in [2,10,15] for sd in [11,95,42,99,13]]\n"
   ]
  },
  {
   "cell_type": "code",
   "execution_count": 6,
   "metadata": {},
   "outputs": [
    {
     "data": {
      "text/plain": [
       "[(<function __main__.<lambda>(x)>, 'naive_false'),\n",
       " (<function __main__.<lambda>(x)>, 'naive_true'),\n",
       " (<function __main__.<listcomp>.<lambda>(x, fl=1)>, 'scod_1'),\n",
       " (<function __main__.<listcomp>.<lambda>(x, fl=2)>, 'scod_2'),\n",
       " (<function __main__.<listcomp>.<lambda>(x, fl=3)>, 'scod_3'),\n",
       " (<function __main__.<listcomp>.<lambda>(x, fl=4)>, 'scod_4'),\n",
       " (<function __main__.<listcomp>.<lambda>(x, fl=5)>, 'scod_5'),\n",
       " (<function __main__.<listcomp>.<lambda>(x, fl=6)>, 'scod_6'),\n",
       " (<function __main__.<listcomp>.<lambda>(x, fl=7)>, 'scod_7'),\n",
       " (<function __main__.<listcomp>.<lambda>(x, fl=8)>, 'scod_8'),\n",
       " (<function __main__.<listcomp>.<lambda>(x, fl=9)>, 'scod_9'),\n",
       " (<function __main__.<listcomp>.<lambda>(x, fl=10)>, 'scod_10'),\n",
       " (<function __main__.<listcomp>.<lambda>(x, fl=11)>, 'scod_11'),\n",
       " (<function __main__.<listcomp>.<lambda>(x, fl=12)>, 'scod_12'),\n",
       " (<function __main__.<listcomp>.<lambda>(x, fl=13)>, 'scod_13'),\n",
       " (<function __main__.<listcomp>.<lambda>(x, fl=14)>, 'scod_14'),\n",
       " (<function __main__.<listcomp>.<lambda>(x, fl=15)>, 'scod_15'),\n",
       " (<function __main__.<listcomp>.<lambda>(x, fl=1)>, 'diverse_1'),\n",
       " (<function __main__.<listcomp>.<lambda>(x, fl=2)>, 'diverse_2'),\n",
       " (<function __main__.<listcomp>.<lambda>(x, fl=3)>, 'diverse_3'),\n",
       " (<function __main__.<listcomp>.<lambda>(x, fl=4)>, 'diverse_4'),\n",
       " (<function __main__.<listcomp>.<lambda>(x, fl=5)>, 'diverse_5'),\n",
       " (<function __main__.<listcomp>.<lambda>(x, fl=6)>, 'diverse_6'),\n",
       " (<function __main__.<listcomp>.<lambda>(x, fl=7)>, 'diverse_7'),\n",
       " (<function __main__.<listcomp>.<lambda>(x, fl=8)>, 'diverse_8'),\n",
       " (<function __main__.<listcomp>.<lambda>(x, fl=9)>, 'diverse_9'),\n",
       " (<function __main__.<listcomp>.<lambda>(x, fl=10)>, 'diverse_10'),\n",
       " (<function __main__.<listcomp>.<lambda>(x, fl=11)>, 'diverse_11'),\n",
       " (<function __main__.<listcomp>.<lambda>(x, fl=12)>, 'diverse_12'),\n",
       " (<function __main__.<listcomp>.<lambda>(x, fl=13)>, 'diverse_13'),\n",
       " (<function __main__.<listcomp>.<lambda>(x, fl=14)>, 'diverse_14'),\n",
       " (<function __main__.<listcomp>.<lambda>(x, fl=15)>, 'diverse_15'),\n",
       " (<function __main__.<listcomp>.<lambda>(x, fl=2, seed=11)>, 'rand_2_11'),\n",
       " (<function __main__.<listcomp>.<lambda>(x, fl=2, seed=95)>, 'rand_2_95'),\n",
       " (<function __main__.<listcomp>.<lambda>(x, fl=2, seed=42)>, 'rand_2_42'),\n",
       " (<function __main__.<listcomp>.<lambda>(x, fl=2, seed=99)>, 'rand_2_99'),\n",
       " (<function __main__.<listcomp>.<lambda>(x, fl=2, seed=13)>, 'rand_2_13'),\n",
       " (<function __main__.<listcomp>.<lambda>(x, fl=10, seed=11)>, 'rand_10_11'),\n",
       " (<function __main__.<listcomp>.<lambda>(x, fl=10, seed=95)>, 'rand_10_95'),\n",
       " (<function __main__.<listcomp>.<lambda>(x, fl=10, seed=42)>, 'rand_10_42'),\n",
       " (<function __main__.<listcomp>.<lambda>(x, fl=10, seed=99)>, 'rand_10_99'),\n",
       " (<function __main__.<listcomp>.<lambda>(x, fl=10, seed=13)>, 'rand_10_13'),\n",
       " (<function __main__.<listcomp>.<lambda>(x, fl=15, seed=11)>, 'rand_15_11'),\n",
       " (<function __main__.<listcomp>.<lambda>(x, fl=15, seed=95)>, 'rand_15_95'),\n",
       " (<function __main__.<listcomp>.<lambda>(x, fl=15, seed=42)>, 'rand_15_42'),\n",
       " (<function __main__.<listcomp>.<lambda>(x, fl=15, seed=99)>, 'rand_15_99'),\n",
       " (<function __main__.<listcomp>.<lambda>(x, fl=15, seed=13)>, 'rand_15_13')]"
      ]
     },
     "execution_count": 6,
     "metadata": {},
     "output_type": "execute_result"
    }
   ],
   "source": [
    "flaggers_to_test"
   ]
  },
  {
   "cell_type": "code",
   "execution_count": 14,
   "metadata": {},
   "outputs": [
    {
     "name": "stdout",
     "output_type": "stream",
     "text": [
      "Evaluating algorithm  naive_false\n",
      "Saving cost/acc data for  naive_false  to file  seed_95_naive_false_cost_acc.npz\n",
      "Saving mean cost/ mean acc/ stddev cost of algorithms so far to file  seed_95_cost_acc_20220709-000604.npz\n",
      "Evaluating algorithm  naive_true\n"
     ]
    },
    {
     "name": "stderr",
     "output_type": "stream",
     "text": [
      "/home/somrita/anaconda3/lib/python3.7/site-packages/torch/nn/modules/loss.py:528: UserWarning: Using a target size (torch.Size([3])) that is different to the input size (torch.Size([1, 3])). This will likely lead to incorrect results due to broadcasting. Please ensure they have the same size.\n",
      "  return F.mse_loss(input, target, reduction=self.reduction)\n"
     ]
    },
    {
     "name": "stdout",
     "output_type": "stream",
     "text": [
      "Saving cost/acc data for  naive_true  to file  seed_95_naive_true_cost_acc.npz\n",
      "Saving mean cost/ mean acc/ stddev cost of algorithms so far to file  seed_95_cost_acc_20220709-000943.npz\n",
      "Evaluating algorithm  scod_1\n",
      "Saving cost/acc data for  scod_1  to file  seed_95_scod_1_cost_acc.npz\n",
      "Saving mean cost/ mean acc/ stddev cost of algorithms so far to file  seed_95_cost_acc_20220709-000958.npz\n",
      "Evaluating algorithm  scod_2\n",
      "Saving cost/acc data for  scod_2  to file  seed_95_scod_2_cost_acc.npz\n",
      "Saving mean cost/ mean acc/ stddev cost of algorithms so far to file  seed_95_cost_acc_20220709-001024.npz\n",
      "Evaluating algorithm  scod_3\n",
      "Saving cost/acc data for  scod_3  to file  seed_95_scod_3_cost_acc.npz\n",
      "Saving mean cost/ mean acc/ stddev cost of algorithms so far to file  seed_95_cost_acc_20220709-001109.npz\n",
      "Evaluating algorithm  scod_4\n",
      "Saving cost/acc data for  scod_4  to file  seed_95_scod_4_cost_acc.npz\n",
      "Saving mean cost/ mean acc/ stddev cost of algorithms so far to file  seed_95_cost_acc_20220709-001234.npz\n",
      "Evaluating algorithm  scod_5\n",
      "Saving cost/acc data for  scod_5  to file  seed_95_scod_5_cost_acc.npz\n",
      "Saving mean cost/ mean acc/ stddev cost of algorithms so far to file  seed_95_cost_acc_20220709-001336.npz\n",
      "Evaluating algorithm  scod_6\n",
      "Saving cost/acc data for  scod_6  to file  seed_95_scod_6_cost_acc.npz\n",
      "Saving mean cost/ mean acc/ stddev cost of algorithms so far to file  seed_95_cost_acc_20220709-001446.npz\n",
      "Evaluating algorithm  scod_7\n",
      "Saving cost/acc data for  scod_7  to file  seed_95_scod_7_cost_acc.npz\n",
      "Saving mean cost/ mean acc/ stddev cost of algorithms so far to file  seed_95_cost_acc_20220709-001607.npz\n",
      "Evaluating algorithm  scod_8\n",
      "Saving cost/acc data for  scod_8  to file  seed_95_scod_8_cost_acc.npz\n",
      "Saving mean cost/ mean acc/ stddev cost of algorithms so far to file  seed_95_cost_acc_20220709-001737.npz\n",
      "Evaluating algorithm  scod_9\n",
      "Saving cost/acc data for  scod_9  to file  seed_95_scod_9_cost_acc.npz\n",
      "Saving mean cost/ mean acc/ stddev cost of algorithms so far to file  seed_95_cost_acc_20220709-001917.npz\n",
      "Evaluating algorithm  scod_10\n",
      "Saving cost/acc data for  scod_10  to file  seed_95_scod_10_cost_acc.npz\n",
      "Saving mean cost/ mean acc/ stddev cost of algorithms so far to file  seed_95_cost_acc_20220709-002110.npz\n",
      "Evaluating algorithm  scod_11\n",
      "Saving cost/acc data for  scod_11  to file  seed_95_scod_11_cost_acc.npz\n",
      "Saving mean cost/ mean acc/ stddev cost of algorithms so far to file  seed_95_cost_acc_20220709-002316.npz\n",
      "Evaluating algorithm  scod_12\n",
      "Saving cost/acc data for  scod_12  to file  seed_95_scod_12_cost_acc.npz\n",
      "Saving mean cost/ mean acc/ stddev cost of algorithms so far to file  seed_95_cost_acc_20220709-002530.npz\n",
      "Evaluating algorithm  scod_13\n",
      "Saving cost/acc data for  scod_13  to file  seed_95_scod_13_cost_acc.npz\n",
      "Saving mean cost/ mean acc/ stddev cost of algorithms so far to file  seed_95_cost_acc_20220709-002754.npz\n",
      "Evaluating algorithm  scod_14\n",
      "Saving cost/acc data for  scod_14  to file  seed_95_scod_14_cost_acc.npz\n",
      "Saving mean cost/ mean acc/ stddev cost of algorithms so far to file  seed_95_cost_acc_20220709-003031.npz\n",
      "Evaluating algorithm  scod_15\n",
      "Saving cost/acc data for  scod_15  to file  seed_95_scod_15_cost_acc.npz\n",
      "Saving mean cost/ mean acc/ stddev cost of algorithms so far to file  seed_95_cost_acc_20220709-003317.npz\n",
      "Evaluating algorithm  diverse_1\n",
      "Saving cost/acc data for  diverse_1  to file  seed_95_diverse_1_cost_acc.npz\n",
      "Saving mean cost/ mean acc/ stddev cost of algorithms so far to file  seed_95_cost_acc_20220709-003332.npz\n",
      "Evaluating algorithm  diverse_2\n",
      "Saving cost/acc data for  diverse_2  to file  seed_95_diverse_2_cost_acc.npz\n",
      "Saving mean cost/ mean acc/ stddev cost of algorithms so far to file  seed_95_cost_acc_20220709-003359.npz\n",
      "Evaluating algorithm  diverse_3\n",
      "Saving cost/acc data for  diverse_3  to file  seed_95_diverse_3_cost_acc.npz\n",
      "Saving mean cost/ mean acc/ stddev cost of algorithms so far to file  seed_95_cost_acc_20220709-003436.npz\n",
      "Evaluating algorithm  diverse_4\n",
      "Saving cost/acc data for  diverse_4  to file  seed_95_diverse_4_cost_acc.npz\n",
      "Saving mean cost/ mean acc/ stddev cost of algorithms so far to file  seed_95_cost_acc_20220709-003525.npz\n",
      "Evaluating algorithm  diverse_5\n",
      "Saving cost/acc data for  diverse_5  to file  seed_95_diverse_5_cost_acc.npz\n",
      "Saving mean cost/ mean acc/ stddev cost of algorithms so far to file  seed_95_cost_acc_20220709-003622.npz\n",
      "Evaluating algorithm  diverse_6\n",
      "Saving cost/acc data for  diverse_6  to file  seed_95_diverse_6_cost_acc.npz\n",
      "Saving mean cost/ mean acc/ stddev cost of algorithms so far to file  seed_95_cost_acc_20220709-003730.npz\n",
      "Evaluating algorithm  diverse_7\n",
      "Saving cost/acc data for  diverse_7  to file  seed_95_diverse_7_cost_acc.npz\n",
      "Saving mean cost/ mean acc/ stddev cost of algorithms so far to file  seed_95_cost_acc_20220709-003846.npz\n",
      "Evaluating algorithm  diverse_8\n",
      "Saving cost/acc data for  diverse_8  to file  seed_95_diverse_8_cost_acc.npz\n",
      "Saving mean cost/ mean acc/ stddev cost of algorithms so far to file  seed_95_cost_acc_20220709-004012.npz\n",
      "Evaluating algorithm  diverse_9\n",
      "Saving cost/acc data for  diverse_9  to file  seed_95_diverse_9_cost_acc.npz\n",
      "Saving mean cost/ mean acc/ stddev cost of algorithms so far to file  seed_95_cost_acc_20220709-004146.npz\n",
      "Evaluating algorithm  diverse_10\n",
      "Saving cost/acc data for  diverse_10  to file  seed_95_diverse_10_cost_acc.npz\n",
      "Saving mean cost/ mean acc/ stddev cost of algorithms so far to file  seed_95_cost_acc_20220709-004326.npz\n",
      "Evaluating algorithm  diverse_11\n",
      "Saving cost/acc data for  diverse_11  to file  seed_95_diverse_11_cost_acc.npz\n",
      "Saving mean cost/ mean acc/ stddev cost of algorithms so far to file  seed_95_cost_acc_20220709-004514.npz\n",
      "Evaluating algorithm  diverse_12\n",
      "Saving cost/acc data for  diverse_12  to file  seed_95_diverse_12_cost_acc.npz\n",
      "Saving mean cost/ mean acc/ stddev cost of algorithms so far to file  seed_95_cost_acc_20220709-004706.npz\n",
      "Evaluating algorithm  diverse_13\n",
      "Saving cost/acc data for  diverse_13  to file  seed_95_diverse_13_cost_acc.npz\n",
      "Saving mean cost/ mean acc/ stddev cost of algorithms so far to file  seed_95_cost_acc_20220709-004904.npz\n",
      "Evaluating algorithm  diverse_14\n",
      "Saving cost/acc data for  diverse_14  to file  seed_95_diverse_14_cost_acc.npz\n",
      "Saving mean cost/ mean acc/ stddev cost of algorithms so far to file  seed_95_cost_acc_20220709-005107.npz\n",
      "Evaluating algorithm  diverse_15\n",
      "Saving cost/acc data for  diverse_15  to file  seed_95_diverse_15_cost_acc.npz\n",
      "Saving mean cost/ mean acc/ stddev cost of algorithms so far to file  seed_95_cost_acc_20220709-005314.npz\n",
      "Evaluating algorithm  rand_2_11\n",
      "Saving cost/acc data for  rand_2_11  to file  seed_95_rand_2_11_cost_acc.npz\n",
      "Saving mean cost/ mean acc/ stddev cost of algorithms so far to file  seed_95_cost_acc_20220709-005337.npz\n",
      "Evaluating algorithm  rand_2_95\n",
      "Saving cost/acc data for  rand_2_95  to file  seed_95_rand_2_95_cost_acc.npz\n",
      "Saving mean cost/ mean acc/ stddev cost of algorithms so far to file  seed_95_cost_acc_20220709-005401.npz\n",
      "Evaluating algorithm  rand_2_42\n",
      "Saving cost/acc data for  rand_2_42  to file  seed_95_rand_2_42_cost_acc.npz\n",
      "Saving mean cost/ mean acc/ stddev cost of algorithms so far to file  seed_95_cost_acc_20220709-005425.npz\n",
      "Evaluating algorithm  rand_2_99\n",
      "Saving cost/acc data for  rand_2_99  to file  seed_95_rand_2_99_cost_acc.npz\n",
      "Saving mean cost/ mean acc/ stddev cost of algorithms so far to file  seed_95_cost_acc_20220709-005448.npz\n",
      "Evaluating algorithm  rand_2_13\n",
      "Saving cost/acc data for  rand_2_13  to file  seed_95_rand_2_13_cost_acc.npz\n",
      "Saving mean cost/ mean acc/ stddev cost of algorithms so far to file  seed_95_cost_acc_20220709-005512.npz\n",
      "Evaluating algorithm  rand_10_11\n",
      "Saving cost/acc data for  rand_10_11  to file  seed_95_rand_10_11_cost_acc.npz\n",
      "Saving mean cost/ mean acc/ stddev cost of algorithms so far to file  seed_95_cost_acc_20220709-005703.npz\n",
      "Evaluating algorithm  rand_10_95\n",
      "Saving cost/acc data for  rand_10_95  to file  seed_95_rand_10_95_cost_acc.npz\n",
      "Saving mean cost/ mean acc/ stddev cost of algorithms so far to file  seed_95_cost_acc_20220709-005853.npz\n",
      "Evaluating algorithm  rand_10_42\n",
      "Saving cost/acc data for  rand_10_42  to file  seed_95_rand_10_42_cost_acc.npz\n",
      "Saving mean cost/ mean acc/ stddev cost of algorithms so far to file  seed_95_cost_acc_20220709-010044.npz\n",
      "Evaluating algorithm  rand_10_99\n",
      "Saving cost/acc data for  rand_10_99  to file  seed_95_rand_10_99_cost_acc.npz\n",
      "Saving mean cost/ mean acc/ stddev cost of algorithms so far to file  seed_95_cost_acc_20220709-010235.npz\n",
      "Evaluating algorithm  rand_10_13\n",
      "Saving cost/acc data for  rand_10_13  to file  seed_95_rand_10_13_cost_acc.npz\n",
      "Saving mean cost/ mean acc/ stddev cost of algorithms so far to file  seed_95_cost_acc_20220709-010426.npz\n",
      "Evaluating algorithm  rand_15_11\n",
      "Saving cost/acc data for  rand_15_11  to file  seed_95_rand_15_11_cost_acc.npz\n",
      "Saving mean cost/ mean acc/ stddev cost of algorithms so far to file  seed_95_cost_acc_20220709-010710.npz\n",
      "Evaluating algorithm  rand_15_95\n",
      "Saving cost/acc data for  rand_15_95  to file  seed_95_rand_15_95_cost_acc.npz\n",
      "Saving mean cost/ mean acc/ stddev cost of algorithms so far to file  seed_95_cost_acc_20220709-010955.npz\n",
      "Evaluating algorithm  rand_15_42\n",
      "Saving cost/acc data for  rand_15_42  to file  seed_95_rand_15_42_cost_acc.npz\n",
      "Saving mean cost/ mean acc/ stddev cost of algorithms so far to file  seed_95_cost_acc_20220709-011240.npz\n",
      "Evaluating algorithm  rand_15_99\n",
      "Saving cost/acc data for  rand_15_99  to file  seed_95_rand_15_99_cost_acc.npz\n",
      "Saving mean cost/ mean acc/ stddev cost of algorithms so far to file  seed_95_cost_acc_20220709-011525.npz\n",
      "Evaluating algorithm  rand_15_13\n",
      "Saving cost/acc data for  rand_15_13  to file  seed_95_rand_15_13_cost_acc.npz\n",
      "Saving mean cost/ mean acc/ stddev cost of algorithms so far to file  seed_95_cost_acc_20220709-011809.npz\n"
     ]
    },
    {
     "ename": "",
     "evalue": "",
     "output_type": "error",
     "traceback": [
      "\u001b[1;31mThe Kernel crashed while executing code in the the current cell or a previous cell. Please review the code in the cell(s) to identify a possible cause of the failure. Click <a href='https://aka.ms/vscodeJupyterKernelCrash'>here</a> for more info. View Jupyter <a href='command:jupyter.viewOutput'>log</a> for further details."
     ]
    }
   ],
   "source": [
    "costs, accs, accs_std = eval_flaggers(flaggers_to_test, load_model_path, test_seq, labels, indiv=False, fnprefix = fnprefix)"
   ]
  }
 ],
 "metadata": {
  "interpreter": {
   "hash": "6521b65884b988f61af67a78bf2c1ddbf3c0a7e5b6c99465394a7999b79f448c"
  },
  "kernelspec": {
   "display_name": "Python 3.7.4 ('base')",
   "language": "python",
   "name": "python3"
  },
  "language_info": {
   "codemirror_mode": {
    "name": "ipython",
    "version": 3
   },
   "file_extension": ".py",
   "mimetype": "text/x-python",
   "name": "python",
   "nbconvert_exporter": "python",
   "pygments_lexer": "ipython3",
   "version": "3.7.4"
  },
  "orig_nbformat": 4
 },
 "nbformat": 4,
 "nbformat_minor": 2
}
