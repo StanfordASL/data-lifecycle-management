{
 "cells": [
  {
   "cell_type": "markdown",
   "metadata": {},
   "source": [
    "## Training a model on MNIST"
   ]
  },
  {
   "cell_type": "code",
   "execution_count": 16,
   "metadata": {},
   "outputs": [
    {
     "name": "stdout",
     "output_type": "stream",
     "text": [
      "The autoreload extension is already loaded. To reload it, use:\n",
      "  %reload_ext autoreload\n"
     ]
    }
   ],
   "source": [
    "%load_ext autoreload\n",
    "%autoreload 2\n",
    "\n",
    "import scod\n",
    "import torch\n",
    "import torch.nn as nn\n",
    "import numpy as np\n",
    "from tqdm import trange\n",
    "import datetime\n",
    "\n",
    "from torchvision import transforms\n",
    "from torchvision.datasets import MNIST, FashionMNIST, KMNIST, EMNIST\n",
    "from torch.utils.data import Subset\n",
    "\n",
    "import seaborn as sns\n",
    "from matplotlib import pyplot as plt"
   ]
  },
  {
   "cell_type": "code",
   "execution_count": 2,
   "metadata": {},
   "outputs": [],
   "source": [
    "# DNN mapping 2d input to 1d distribution parameter\n",
    "# LeNet v5\n",
    "model = nn.Sequential(\n",
    "        nn.Conv2d(1, 6, 5, 1),\n",
    "        nn.ReLU(),\n",
    "        nn.AvgPool2d(2),\n",
    "        nn.Conv2d(6, 16, 5, 1),\n",
    "        nn.ReLU(),\n",
    "        nn.AvgPool2d(2),\n",
    "        nn.Flatten(),\n",
    "        nn.Linear(256, 120),\n",
    "        nn.ReLU(),\n",
    "        nn.Linear(120,84),\n",
    "        nn.ReLU(),\n",
    "        nn.Linear(84,10)\n",
    "    )\n",
    "\n",
    "dist_layer = scod.distributions.CategoricalLogitLayer()"
   ]
  },
  {
   "cell_type": "code",
   "execution_count": 3,
   "metadata": {},
   "outputs": [],
   "source": [
    "device=torch.device('cpu')\n",
    "model = model.to(device)"
   ]
  },
  {
   "cell_type": "code",
   "execution_count": 5,
   "metadata": {},
   "outputs": [],
   "source": [
    "train_dataset = MNIST(root=\"~/data/\",train=True,download=True,transform=transforms.Compose([\n",
    "    transforms.ToTensor(),\n",
    "    transforms.Normalize((0.1307,),(0.3801,))\n",
    "]))"
   ]
  },
  {
   "cell_type": "code",
   "execution_count": 6,
   "metadata": {},
   "outputs": [
    {
     "name": "stderr",
     "output_type": "stream",
     "text": [
      "mean_loss=0.014296,lr=0.000000: 100%|██████████| 100/100 [13:49<00:00,  8.30s/it]\n"
     ]
    },
    {
     "data": {
      "text/plain": [
       "[<matplotlib.lines.Line2D at 0x7f37bd0f1650>]"
      ]
     },
     "execution_count": 6,
     "metadata": {},
     "output_type": "execute_result"
    },
    {
     "data": {
      "image/png": "[encoded data removed]",
      "text/plain": [
       "<Figure size 432x288 with 1 Axes>"
      ]
     },
     "metadata": {
      "needs_background": "light"
     },
     "output_type": "display_data"
    }
   ],
   "source": [
    "train_dataloader = torch.utils.data.DataLoader(train_dataset, batch_size=256, shuffle=True, num_workers=4)\n",
    "optimizer = torch.optim.Adam(model.parameters(), lr=1e-2)\n",
    "scheduler = torch.optim.lr_scheduler.CosineAnnealingLR(optimizer, 100)\n",
    "\n",
    "losses = []\n",
    "t = trange(100)\n",
    "\n",
    "for epoch in t:\n",
    "    epoch_loss = 0.\n",
    "    for (inputs, targets) in train_dataloader:\n",
    "        optimizer.zero_grad()\n",
    "        \n",
    "        outputs = model(inputs.to(device))\n",
    "        dist = dist_layer(outputs)\n",
    "        loss = -dist.log_prob(targets.to(device))\n",
    "\n",
    "        mean_loss = loss.mean()\n",
    "\n",
    "        regularization = torch.sum(torch.stack([torch.norm(p)**2 for p in model.parameters()])) / 2e3\n",
    "\n",
    "        total_loss = mean_loss + regularization\n",
    "\n",
    "        total_loss.backward()\n",
    "\n",
    "        epoch_loss += mean_loss\n",
    "        \n",
    "        optimizer.step()\n",
    "    scheduler.step()\n",
    "        \n",
    "    epoch_loss /= len(train_dataloader)\n",
    "    \n",
    "    t.set_description(\"mean_loss=%02f,lr=%02f\"%(epoch_loss.item(),scheduler.get_last_lr()[0]))\n",
    "    losses.append(epoch_loss.item())\n",
    "\n",
    "plt.plot(losses)"
   ]
  },
  {
   "cell_type": "code",
   "execution_count": 11,
   "metadata": {},
   "outputs": [],
   "source": [
    "# create checkpoint variable and add important data\n",
    "checkpoint = {\n",
    "    'epoch': epoch + 1,\n",
    "    'valid_loss': epoch_loss,\n",
    "    'state_dict': model.state_dict(),\n",
    "    'optimizer': optimizer.state_dict(),\n",
    "}\n"
   ]
  },
  {
   "cell_type": "code",
   "execution_count": 13,
   "metadata": {},
   "outputs": [],
   "source": [
    "save_model_path = \"../best_model/mnist_model.pt\"\n",
    "losses_path = \"../losses/\""
   ]
  },
  {
   "cell_type": "code",
   "execution_count": 14,
   "metadata": {},
   "outputs": [],
   "source": [
    "# torch.save(checkpoint, save_model_path)"
   ]
  },
  {
   "cell_type": "code",
   "execution_count": 18,
   "metadata": {},
   "outputs": [],
   "source": [
    "# # Save train losses and valid losses\n",
    "# fname = datetime.datetime.now().strftime(\"%Y%m%d-%H%M%S\") +'.npz' \n",
    "# np.savez(losses_path + fname, train_loss_values = losses)"
   ]
  },
  {
   "cell_type": "code",
   "execution_count": null,
   "metadata": {},
   "outputs": [],
   "source": []
  }
 ],
 "metadata": {
  "kernelspec": {
   "display_name": "Python 3.7.4 ('base')",
   "language": "python",
   "name": "python3"
  },
  "language_info": {
   "codemirror_mode": {
    "name": "ipython",
    "version": 3
   },
   "file_extension": ".py",
   "mimetype": "text/x-python",
   "name": "python",
   "nbconvert_exporter": "python",
   "pygments_lexer": "ipython3",
   "version": "3.7.4"
  },
  "orig_nbformat": 4,
  "vscode": {
   "interpreter": {
    "hash": "6521b65884b988f61af67a78bf2c1ddbf3c0a7e5b6c99465394a7999b79f448c"
   }
  }
 },
 "nbformat": 4,
 "nbformat_minor": 2
}
