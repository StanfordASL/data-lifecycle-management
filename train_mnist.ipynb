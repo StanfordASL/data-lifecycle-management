{
 "cells": [
  {
   "attachments": {},
   "cell_type": "markdown",
   "metadata": {},
   "source": [
    "## Training a model on MNIST"
   ]
  },
  {
   "cell_type": "code",
   "execution_count": 1,
   "metadata": {},
   "outputs": [],
   "source": [
    "%load_ext autoreload\n",
    "%autoreload 2\n",
    "\n",
    "import scod\n",
    "import torch\n",
    "import torch.nn as nn\n",
    "import numpy as np\n",
    "from tqdm import trange\n",
    "import datetime\n",
    "\n",
    "from torchvision import transforms\n",
    "from torchvision.datasets import MNIST, FashionMNIST, KMNIST, EMNIST\n",
    "from torch.utils.data import Subset\n",
    "\n",
    "import seaborn as sns\n",
    "from matplotlib import pyplot as plt\n",
    "\n",
    "from scripts.train_functions import create_dataloaders, main"
   ]
  },
  {
   "attachments": {},
   "cell_type": "markdown",
   "metadata": {},
   "source": [
    "## Using training scaffolding"
   ]
  },
  {
   "cell_type": "code",
   "execution_count": 2,
   "metadata": {},
   "outputs": [],
   "source": [
    "root=\"~/data/\"\n",
    "batch_size = 100\n",
    "dataset_name = \"mnist\"\n"
   ]
  },
  {
   "cell_type": "code",
   "execution_count": 3,
   "metadata": {},
   "outputs": [],
   "source": [
    "dataloaders, dataset_sizes = create_dataloaders(root, batch_size, dataset_name=dataset_name)"
   ]
  },
  {
   "cell_type": "code",
   "execution_count": 4,
   "metadata": {},
   "outputs": [],
   "source": [
    "# Select which dataset to use for training and validation\n",
    "dataloaders['train'] = dataloaders['mnist_train']\n",
    "dataset_sizes['train'] = dataset_sizes['mnist_train']\n",
    "dataloaders['val'] = dataloaders['mnist_test']\n",
    "dataset_sizes['val'] = dataset_sizes['mnist_test']"
   ]
  },
  {
   "cell_type": "code",
   "execution_count": 5,
   "metadata": {},
   "outputs": [
    {
     "name": "stdout",
     "output_type": "stream",
     "text": [
      "Resuming?  False\n",
      "Epoch 1/4\n",
      "----------\n",
      "train Loss: 0.8317\n",
      "val Loss: 0.1874\n",
      "Validation loss decreased (inf --> 0.187424).  Saving model ...\n",
      "Epoch 2/4\n",
      "----------\n",
      "train Loss: 0.1486\n",
      "val Loss: 0.1308\n",
      "Validation loss decreased (0.187424 --> 0.130831).  Saving model ...\n",
      "Epoch 3/4\n",
      "----------\n",
      "train Loss: 0.0953\n",
      "val Loss: 0.0936\n",
      "Validation loss decreased (0.130831 --> 0.093574).  Saving model ...\n",
      "Epoch 4/4\n",
      "----------\n",
      "train Loss: 0.0730\n",
      "val Loss: 0.0746\n",
      "Validation loss decreased (0.093574 --> 0.074646).  Saving model ...\n",
      "Latest checkpoint saved at:  ./checkpoint/current_checkpoint.pt\n",
      "Best model saved at:  ./best_model/mnist/temp_model.pt\n",
      "Losses saved at:  ./losses/\n"
     ]
    }
   ],
   "source": [
    "epochs = 40\n",
    "# ckp_path, best_model_path, losses_path = main('mnist', epochs, dataloaders, dataset_sizes, ckp_path = \"./checkpoint/current_checkpoint.pt\", model_save_path = \"./best_model/mnist/temp_model.pt\", losses_path = \"./losses/\", resume=False)\n",
    "print(\"Latest checkpoint saved at: \", ckp_path)\n",
    "print(\"Best model saved at: \", best_model_path)\n",
    "print(\"Losses saved at: \", losses_path)"
   ]
  },
  {
   "attachments": {},
   "cell_type": "markdown",
   "metadata": {},
   "source": [
    "## All in one notebook"
   ]
  },
  {
   "cell_type": "code",
   "execution_count": 2,
   "metadata": {},
   "outputs": [],
   "source": [
    "# DNN mapping 2d input to 1d distribution parameter\n",
    "# LeNet v5\n",
    "model = nn.Sequential(\n",
    "        nn.Conv2d(1, 6, 5, 1),\n",
    "        nn.ReLU(),\n",
    "        nn.AvgPool2d(2),\n",
    "        nn.Conv2d(6, 16, 5, 1),\n",
    "        nn.ReLU(),\n",
    "        nn.AvgPool2d(2),\n",
    "        nn.Flatten(),\n",
    "        nn.Linear(256, 120),\n",
    "        nn.ReLU(),\n",
    "        nn.Linear(120,84),\n",
    "        nn.ReLU(),\n",
    "        nn.Linear(84,10)\n",
    "    )\n",
    "\n",
    "dist_layer = scod.distributions.CategoricalLogitLayer()"
   ]
  },
  {
   "cell_type": "code",
   "execution_count": 3,
   "metadata": {},
   "outputs": [],
   "source": [
    "device=torch.device('cpu')\n",
    "model = model.to(device)"
   ]
  },
  {
   "cell_type": "code",
   "execution_count": 4,
   "metadata": {},
   "outputs": [],
   "source": [
    "train_dataset = MNIST(root=\"~/data/\",train=True,download=True,transform=transforms.Compose([\n",
    "    transforms.ToTensor(),\n",
    "    transforms.Normalize((0.1307,),(0.3801,))\n",
    "]))"
   ]
  },
  {
   "cell_type": "code",
   "execution_count": 5,
   "metadata": {},
   "outputs": [
    {
     "name": "stderr",
     "output_type": "stream",
     "text": [
      "mean_loss=0.014400,lr=0.000000: 100%|██████████| 500/500 [1:03:13<00:00,  7.59s/it]\n"
     ]
    },
    {
     "data": {
      "text/plain": [
       "[<matplotlib.lines.Line2D at 0x7f51f62440d0>]"
      ]
     },
     "execution_count": 5,
     "metadata": {},
     "output_type": "execute_result"
    },
    {
     "data": {
      "image/png": "[encoded data removed]",
      "text/plain": [
       "<Figure size 432x288 with 1 Axes>"
      ]
     },
     "metadata": {
      "needs_background": "light"
     },
     "output_type": "display_data"
    }
   ],
   "source": [
    "train_dataloader = torch.utils.data.DataLoader(train_dataset, batch_size=256, shuffle=True, num_workers=4)\n",
    "optimizer = torch.optim.Adam(model.parameters(), lr=1e-2)\n",
    "scheduler = torch.optim.lr_scheduler.CosineAnnealingLR(optimizer, 100)\n",
    "\n",
    "losses = []\n",
    "# t = trange(100)\n",
    "t = trange(500)\n",
    "\n",
    "for epoch in t:\n",
    "    epoch_loss = 0.\n",
    "    for (inputs, targets) in train_dataloader:\n",
    "        optimizer.zero_grad()\n",
    "        \n",
    "        outputs = model(inputs.to(device))\n",
    "        dist = dist_layer(outputs)\n",
    "        loss = -dist.log_prob(targets.to(device))\n",
    "\n",
    "        mean_loss = loss.mean()\n",
    "\n",
    "        regularization = torch.sum(torch.stack([torch.norm(p)**2 for p in model.parameters()])) / 2e3\n",
    "\n",
    "        total_loss = mean_loss + regularization\n",
    "\n",
    "        total_loss.backward()\n",
    "\n",
    "        epoch_loss += mean_loss\n",
    "        \n",
    "        optimizer.step()\n",
    "    scheduler.step()\n",
    "        \n",
    "    epoch_loss /= len(train_dataloader)\n",
    "    \n",
    "    t.set_description(\"mean_loss=%02f,lr=%02f\"%(epoch_loss.item(),scheduler.get_last_lr()[0]))\n",
    "    losses.append(epoch_loss.item())\n",
    "\n",
    "plt.plot(losses)"
   ]
  },
  {
   "cell_type": "code",
   "execution_count": 6,
   "metadata": {},
   "outputs": [],
   "source": [
    "# create checkpoint variable and add important data\n",
    "checkpoint = {\n",
    "    'epoch': epoch + 1,\n",
    "    'valid_loss': epoch_loss,\n",
    "    'state_dict': model.state_dict(),\n",
    "    'optimizer': optimizer.state_dict(),\n",
    "}\n"
   ]
  },
  {
   "cell_type": "code",
   "execution_count": 7,
   "metadata": {},
   "outputs": [],
   "source": [
    "# save_model_path = \"../best_model/mnist_model.pt\"\n",
    "# losses_path = \"../losses/\"\n",
    "\n",
    "# save_model_path = \"../best_model/overtrained_mnist_model.pt\"\n",
    "# losses_path = \"../losses/\""
   ]
  },
  {
   "cell_type": "code",
   "execution_count": 8,
   "metadata": {},
   "outputs": [],
   "source": [
    "# torch.save(checkpoint, save_model_path)"
   ]
  },
  {
   "cell_type": "code",
   "execution_count": 18,
   "metadata": {},
   "outputs": [],
   "source": [
    "# # Save train losses and valid losses\n",
    "# fname = datetime.datetime.now().strftime(\"%Y%m%d-%H%M%S\") +'.npz' \n",
    "# np.savez(losses_path + fname, train_loss_values = losses)"
   ]
  },
  {
   "cell_type": "code",
   "execution_count": null,
   "metadata": {},
   "outputs": [],
   "source": []
  }
 ],
 "metadata": {
  "kernelspec": {
   "display_name": "Python 3.7.4 ('base')",
   "language": "python",
   "name": "python3"
  },
  "language_info": {
   "codemirror_mode": {
    "name": "ipython",
    "version": 3
   },
   "file_extension": ".py",
   "mimetype": "text/x-python",
   "name": "python",
   "nbconvert_exporter": "python",
   "pygments_lexer": "ipython3",
   "version": "3.7.4"
  },
  "orig_nbformat": 4,
  "vscode": {
   "interpreter": {
    "hash": "6521b65884b988f61af67a78bf2c1ddbf3c0a7e5b6c99465394a7999b79f448c"
   }
  }
 },
 "nbformat": 4,
 "nbformat_minor": 2
}
